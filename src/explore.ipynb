{
    "cells": [
        {
            "cell_type": "markdown",
            "metadata": {},
            "source": [
                "# Explore here\n",
                "\n",
                "It's recommended to use this notebook for exploration purposes."
            ]
        },
        {
            "cell_type": "code",
            "execution_count": null,
            "metadata": {},
            "outputs": [
                {
                    "ename": "",
                    "evalue": "",
                    "output_type": "error",
                    "traceback": [
                        "\u001b[1;31mUruchomienie komórek z elementem „Python 3.9.2” wymaga pakietu ipykernel.\n",
                        "\u001b[1;31mUruchom następujące polecenie, aby zainstalować pakiet „ipykernel” w środowisku języka Python. \n",
                        "\u001b[1;31mPolecenie: „/usr/bin/python3 -m pip install ipykernel -U --user --force-reinstall”"
                    ]
                }
            ],
            "source": [
                "import os\n",
                "from bs4 import BeautifulSoup\n",
                "import requests\n",
                "import time\n",
                "import sqlite3\n",
                "import matplotlib.pyplot as plt\n",
                "import seaborn as sns\n",
                "\n"
            ]
        },
        {
            "cell_type": "code",
            "execution_count": null,
            "metadata": {},
            "outputs": [
                {
                    "ename": "",
                    "evalue": "",
                    "output_type": "error",
                    "traceback": [
                        "\u001b[1;31mUruchomienie komórek z elementem „Python 3.9.2” wymaga pakietu ipykernel.\n",
                        "\u001b[1;31mUruchom następujące polecenie, aby zainstalować pakiet „ipykernel” w środowisku języka Python. \n",
                        "\u001b[1;31mPolecenie: „/usr/bin/python3 -m pip install ipykernel -U --user --force-reinstall”"
                    ]
                }
            ],
            "source": [
                "pip install pandas requests"
            ]
        },
        {
            "cell_type": "markdown",
            "metadata": {},
            "source": [
                "import requests\n",
                "import time\n",
                "\n",
                "url = \"https://www.macrotrends.net/stocks/charts/TSLA/tesla/revenue\"\n",
                "html_data = requests.get(url, time.sleep(10)).text\n",
                "\n",
                "# If no information is extracted, then connect as anonymous\n",
                "if \"403 Forbidden\" in html_data:\n",
                "    headers = {\"User-Agent\": \"Mozilla/5.0 (Macintosh; Intel Mac OS X 10_11_5) AppleWebKit/537.36 (KHTML, like Gecko) Chrome/50.0.2661.102 Safari/537.36\"}\n",
                "    request = requests.get(url, headers = headers)\n",
                "    time.sleep(10)\n",
                "    html_data = request.text\n",
                "\n",
                "html_data"
            ]
        },
        {
            "cell_type": "markdown",
            "metadata": {},
            "source": [
                "from bs4 import BeautifulSoup\n",
                "\n",
                "soup = BeautifulSoup(html_data,\"html.parser\")\n",
                "soup"
            ]
        },
        {
            "cell_type": "code",
            "execution_count": null,
            "metadata": {},
            "outputs": [
                {
                    "ename": "",
                    "evalue": "",
                    "output_type": "error",
                    "traceback": [
                        "\u001b[1;31mUruchomienie komórek z elementem „Python 3.9.2” wymaga pakietu ipykernel.\n",
                        "\u001b[1;31mUruchom następujące polecenie, aby zainstalować pakiet „ipykernel” w środowisku języka Python. \n",
                        "\u001b[1;31mPolecenie: „/usr/bin/python3 -m pip install ipykernel -U --user --force-reinstall”"
                    ]
                }
            ],
            "source": [
                "\n",
                "tables = soup.find_all(\"table\")\n",
                "tables"
            ]
        },
        {
            "cell_type": "code",
            "execution_count": null,
            "metadata": {},
            "outputs": [
                {
                    "ename": "",
                    "evalue": "",
                    "output_type": "error",
                    "traceback": [
                        "\u001b[1;31mUruchomienie komórek z elementem „Python 3.9.2” wymaga pakietu ipykernel.\n",
                        "\u001b[1;31mUruchom następujące polecenie, aby zainstalować pakiet „ipykernel” w środowisku języka Python. \n",
                        "\u001b[1;31mPolecenie: „/usr/bin/python3 -m pip install ipykernel -U --user --force-reinstall”"
                    ]
                }
            ],
            "source": [
                "import pandas as pd\n",
                "\n",
                "for index, table in enumerate(tables):\n",
                "    if (\"Tesla Quarterly Revenue\" in str(table)):\n",
                "        table_index = index\n",
                "        break\n",
                "\n",
                "\n",
                "tesla_revenue = pd.DataFrame(columns = [\"Date\", \"Revenue\"])\n",
                "for row in tables[table_index].tbody.find_all(\"tr\"):\n",
                "    col = row.find_all(\"td\")\n",
                "    if (col != []):\n",
                "        Date = col[0].text\n",
                "        Revenue = col[1].text.replace(\"$\", \"\").replace(\",\", \"\")\n",
                "        tesla_revenue = pd.concat([tesla_revenue, pd.DataFrame({\n",
                "            \"Date\": Date,\n",
                "            \"Revenue\": Revenue\n",
                "        }, index = [0])], ignore_index = True)\n",
                "\n",
                "tesla_revenue.head()"
            ]
        },
        {
            "cell_type": "code",
            "execution_count": null,
            "metadata": {},
            "outputs": [
                {
                    "ename": "",
                    "evalue": "",
                    "output_type": "error",
                    "traceback": [
                        "\u001b[1;31mUruchomienie komórek z elementem „Python 3.9.2” wymaga pakietu ipykernel.\n",
                        "\u001b[1;31mUruchom następujące polecenie, aby zainstalować pakiet „ipykernel” w środowisku języka Python. \n",
                        "\u001b[1;31mPolecenie: „/usr/bin/python3 -m pip install ipykernel -U --user --force-reinstall”"
                    ]
                }
            ],
            "source": [
                "tesla_revenue = tesla_revenue[tesla_revenue[\"Revenue\"] != \"\"]\n",
                "tesla_revenue.head()"
            ]
        },
        {
            "cell_type": "code",
            "execution_count": null,
            "metadata": {},
            "outputs": [
                {
                    "ename": "",
                    "evalue": "",
                    "output_type": "error",
                    "traceback": [
                        "\u001b[1;31mUruchomienie komórek z elementem „Python 3.9.2” wymaga pakietu ipykernel.\n",
                        "\u001b[1;31mUruchom następujące polecenie, aby zainstalować pakiet „ipykernel” w środowisku języka Python. \n",
                        "\u001b[1;31mPolecenie: „/usr/bin/python3 -m pip install ipykernel -U --user --force-reinstall”"
                    ]
                }
            ],
            "source": [
                "import sqlite3\n",
                "\n",
                "connection = sqlite3.connect(\"Tesla.db\")\n",
                "connection"
            ]
        },
        {
            "cell_type": "code",
            "execution_count": null,
            "metadata": {},
            "outputs": [
                {
                    "ename": "",
                    "evalue": "",
                    "output_type": "error",
                    "traceback": [
                        "\u001b[1;31mUruchomienie komórek z elementem „Python 3.9.2” wymaga pakietu ipykernel.\n",
                        "\u001b[1;31mUruchom następujące polecenie, aby zainstalować pakiet „ipykernel” w środowisku języka Python. \n",
                        "\u001b[1;31mPolecenie: „/usr/bin/python3 -m pip install ipykernel -U --user --force-reinstall”"
                    ]
                }
            ],
            "source": [
                "cursor = connection.cursor()\n",
                "cursor.execute(\"\"\"CREATE TABLE revenue (Date, Revenue)\"\"\")"
            ]
        },
        {
            "cell_type": "code",
            "execution_count": null,
            "metadata": {},
            "outputs": [
                {
                    "ename": "",
                    "evalue": "",
                    "output_type": "error",
                    "traceback": [
                        "\u001b[1;31mUruchomienie komórek z elementem „Python 3.9.2” wymaga pakietu ipykernel.\n",
                        "\u001b[1;31mUruchom następujące polecenie, aby zainstalować pakiet „ipykernel” w środowisku języka Python. \n",
                        "\u001b[1;31mPolecenie: „/usr/bin/python3 -m pip install ipykernel -U --user --force-reinstall”"
                    ]
                }
            ],
            "source": [
                "cursor.executemany(\"INSERT INTO revenue VALUES (?,?)\", tesla_tuples)\n",
                "connection.commit()"
            ]
        },
        {
            "cell_type": "code",
            "execution_count": null,
            "metadata": {},
            "outputs": [
                {
                    "ename": "",
                    "evalue": "",
                    "output_type": "error",
                    "traceback": [
                        "\u001b[1;31mUruchomienie komórek z elementem „Python 3.9.2” wymaga pakietu ipykernel.\n",
                        "\u001b[1;31mUruchom następujące polecenie, aby zainstalować pakiet „ipykernel” w środowisku języka Python. \n",
                        "\u001b[1;31mPolecenie: „/usr/bin/python3 -m pip install ipykernel -U --user --force-reinstall”"
                    ]
                }
            ],
            "source": [
                "for row in cursor.execute(\"SELECT * FROM revenue\"):\n",
                "    print(row)"
            ]
        },
        {
            "cell_type": "code",
            "execution_count": null,
            "metadata": {},
            "outputs": [
                {
                    "ename": "",
                    "evalue": "",
                    "output_type": "error",
                    "traceback": [
                        "\u001b[1;31mUruchomienie komórek z elementem „Python 3.9.2” wymaga pakietu ipykernel.\n",
                        "\u001b[1;31mUruchom następujące polecenie, aby zainstalować pakiet „ipykernel” w środowisku języka Python. \n",
                        "\u001b[1;31mPolecenie: „/usr/bin/python3 -m pip install ipykernel -U --user --force-reinstall”"
                    ]
                }
            ],
            "source": [
                "import matplotlib.pyplot as plt\n",
                "import seaborn as sns\n",
                "\n",
                "fig, axis = plt.subplots(figsize = (10, 5))\n",
                "\n",
                "tesla_revenue[\"Date\"] = pd.to_datetime(tesla_revenue[\"Date\"])\n",
                "tesla_revenue[\"Revenue\"] = tesla_revenue[\"Revenue\"].astype('int')\n",
                "sns.lineplot(data = tesla_revenue, x = \"Date\", y = \"Revenue\")\n",
                "\n",
                "plt.tight_layout()\n",
                "\n",
                "plt.show()"
            ]
        },
        {
            "cell_type": "code",
            "execution_count": null,
            "metadata": {},
            "outputs": [
                {
                    "ename": "",
                    "evalue": "",
                    "output_type": "error",
                    "traceback": [
                        "\u001b[1;31mUruchomienie komórek z elementem „Python 3.9.2” wymaga pakietu ipykernel.\n",
                        "\u001b[1;31mUruchom następujące polecenie, aby zainstalować pakiet „ipykernel” w środowisku języka Python. \n",
                        "\u001b[1;31mPolecenie: „/usr/bin/python3 -m pip install ipykernel -U --user --force-reinstall”"
                    ]
                }
            ],
            "source": [
                "fig, axis = plt.subplots(figsize = (10, 5))\n",
                "\n",
                "tesla_revenue[\"Date\"] = pd.to_datetime(tesla_revenue[\"Date\"])\n",
                "tesla_revenue_yearly = tesla_revenue.groupby(tesla_revenue[\"Date\"].dt.year).sum().reset_index()\n",
                "\n",
                "sns.barplot(data = tesla_revenue_yearly[tesla_revenue_yearly[\"Date\"] < 2023], x = \"Date\", y = \"Revenue\")\n",
                "\n",
                "plt.tight_layout()\n",
                "\n",
                "plt.show()"
            ]
        },
        {
            "cell_type": "code",
            "execution_count": null,
            "metadata": {},
            "outputs": [
                {
                    "ename": "",
                    "evalue": "",
                    "output_type": "error",
                    "traceback": [
                        "\u001b[1;31mUruchomienie komórek z elementem „Python 3.9.2” wymaga pakietu ipykernel.\n",
                        "\u001b[1;31mUruchom następujące polecenie, aby zainstalować pakiet „ipykernel” w środowisku języka Python. \n",
                        "\u001b[1;31mPolecenie: „/usr/bin/python3 -m pip install ipykernel -U --user --force-reinstall”"
                    ]
                }
            ],
            "source": [
                "fig, axis = plt.subplots(figsize = (10, 5))\n",
                "\n",
                "tesla_revenue_monthly = tesla_revenue.groupby(tesla_revenue[\"Date\"].dt.month).sum().reset_index()\n",
                "\n",
                "sns.barplot(data = tesla_revenue_monthly, x = \"Date\", y = \"Revenue\")\n",
                "\n",
                "plt.tight_layout()\n",
                "\n",
                "plt.show()"
            ]
        }
    ],
    "metadata": {
        "kernelspec": {
            "display_name": "Python 3.8.13 64-bit ('3.8.13')",
            "language": "python",
            "name": "python3"
        },
        "language_info": {
            "codemirror_mode": {
                "name": "ipython",
                "version": 3
            },
            "file_extension": ".py",
            "mimetype": "text/x-python",
            "name": "python",
            "nbconvert_exporter": "python",
            "pygments_lexer": "ipython3",
            "version": "3.9.2"
        },
        "orig_nbformat": 4,
        "vscode": {
            "interpreter": {
                "hash": "110cc1dee26208153f2972f08a2ad52b6a56238dc66d48e87fb757ef2996db56"
            }
        }
    },
    "nbformat": 4,
    "nbformat_minor": 2
}
